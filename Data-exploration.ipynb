{
 "cells": [
  {
   "cell_type": "markdown",
   "metadata": {
    "collapsed": true,
    "pycharm": {
     "name": "#%% md\n"
    }
   },
   "source": [
    "### Adding dataframes for future analyzation"
   ]
  },
  {
   "cell_type": "code",
   "execution_count": 1,
   "outputs": [],
   "source": [
    "import pandas as pd\n",
    "\n",
    "order_list = pd.read_csv('data/List of Orders.csv')\n",
    "order_details = pd.read_csv('data/Order Details.csv')\n",
    "sales = pd.read_csv('data/Sales target.csv')"
   ],
   "metadata": {
    "collapsed": false,
    "pycharm": {
     "name": "#%%\n"
    }
   }
  },
  {
   "cell_type": "markdown",
   "source": [
    "##### Order list"
   ],
   "metadata": {
    "collapsed": false,
    "pycharm": {
     "name": "#%% md\n"
    }
   }
  },
  {
   "cell_type": "code",
   "execution_count": 2,
   "outputs": [
    {
     "name": "stdout",
     "output_type": "stream",
     "text": [
      "<class 'pandas.core.frame.DataFrame'>\n",
      "RangeIndex: 560 entries, 0 to 559\n",
      "Data columns (total 5 columns):\n",
      " #   Column        Non-Null Count  Dtype \n",
      "---  ------        --------------  ----- \n",
      " 0   Order ID      500 non-null    object\n",
      " 1   Order Date    500 non-null    object\n",
      " 2   CustomerName  500 non-null    object\n",
      " 3   State         500 non-null    object\n",
      " 4   City          500 non-null    object\n",
      "dtypes: object(5)\n",
      "memory usage: 22.0+ KB\n",
      "None\n"
     ]
    },
    {
     "data": {
      "text/plain": "  Order ID  Order Date CustomerName           State       City\n0  B-25601  01-04-2018       Bharat         Gujarat  Ahmedabad\n1  B-25602  01-04-2018        Pearl     Maharashtra       Pune\n2  B-25603  03-04-2018        Jahan  Madhya Pradesh     Bhopal\n3  B-25604  03-04-2018       Divsha       Rajasthan     Jaipur\n4  B-25605  05-04-2018      Kasheen     West Bengal    Kolkata",
      "text/html": "<div>\n<style scoped>\n    .dataframe tbody tr th:only-of-type {\n        vertical-align: middle;\n    }\n\n    .dataframe tbody tr th {\n        vertical-align: top;\n    }\n\n    .dataframe thead th {\n        text-align: right;\n    }\n</style>\n<table border=\"1\" class=\"dataframe\">\n  <thead>\n    <tr style=\"text-align: right;\">\n      <th></th>\n      <th>Order ID</th>\n      <th>Order Date</th>\n      <th>CustomerName</th>\n      <th>State</th>\n      <th>City</th>\n    </tr>\n  </thead>\n  <tbody>\n    <tr>\n      <th>0</th>\n      <td>B-25601</td>\n      <td>01-04-2018</td>\n      <td>Bharat</td>\n      <td>Gujarat</td>\n      <td>Ahmedabad</td>\n    </tr>\n    <tr>\n      <th>1</th>\n      <td>B-25602</td>\n      <td>01-04-2018</td>\n      <td>Pearl</td>\n      <td>Maharashtra</td>\n      <td>Pune</td>\n    </tr>\n    <tr>\n      <th>2</th>\n      <td>B-25603</td>\n      <td>03-04-2018</td>\n      <td>Jahan</td>\n      <td>Madhya Pradesh</td>\n      <td>Bhopal</td>\n    </tr>\n    <tr>\n      <th>3</th>\n      <td>B-25604</td>\n      <td>03-04-2018</td>\n      <td>Divsha</td>\n      <td>Rajasthan</td>\n      <td>Jaipur</td>\n    </tr>\n    <tr>\n      <th>4</th>\n      <td>B-25605</td>\n      <td>05-04-2018</td>\n      <td>Kasheen</td>\n      <td>West Bengal</td>\n      <td>Kolkata</td>\n    </tr>\n  </tbody>\n</table>\n</div>"
     },
     "execution_count": 2,
     "metadata": {},
     "output_type": "execute_result"
    }
   ],
   "source": [
    "print(order_list.info())\n",
    "order_list.head()"
   ],
   "metadata": {
    "collapsed": false,
    "pycharm": {
     "name": "#%%\n"
    }
   }
  },
  {
   "cell_type": "markdown",
   "source": [
    "##### Order details"
   ],
   "metadata": {
    "collapsed": false,
    "pycharm": {
     "name": "#%% md\n"
    }
   }
  },
  {
   "cell_type": "code",
   "execution_count": 3,
   "outputs": [
    {
     "name": "stdout",
     "output_type": "stream",
     "text": [
      "<class 'pandas.core.frame.DataFrame'>\n",
      "RangeIndex: 1500 entries, 0 to 1499\n",
      "Data columns (total 6 columns):\n",
      " #   Column        Non-Null Count  Dtype  \n",
      "---  ------        --------------  -----  \n",
      " 0   Order ID      1500 non-null   object \n",
      " 1   Amount        1500 non-null   float64\n",
      " 2   Profit        1500 non-null   float64\n",
      " 3   Quantity      1500 non-null   int64  \n",
      " 4   Category      1500 non-null   object \n",
      " 5   Sub-Category  1500 non-null   object \n",
      "dtypes: float64(2), int64(1), object(3)\n",
      "memory usage: 70.4+ KB\n",
      "None\n"
     ]
    },
    {
     "data": {
      "text/plain": "  Order ID  Amount  Profit  Quantity     Category      Sub-Category\n0  B-25601  1275.0 -1148.0         7    Furniture         Bookcases\n1  B-25601    66.0   -12.0         5     Clothing             Stole\n2  B-25601     8.0    -2.0         3     Clothing       Hankerchief\n3  B-25601    80.0   -56.0         4  Electronics  Electronic Games\n4  B-25602   168.0  -111.0         2  Electronics            Phones",
      "text/html": "<div>\n<style scoped>\n    .dataframe tbody tr th:only-of-type {\n        vertical-align: middle;\n    }\n\n    .dataframe tbody tr th {\n        vertical-align: top;\n    }\n\n    .dataframe thead th {\n        text-align: right;\n    }\n</style>\n<table border=\"1\" class=\"dataframe\">\n  <thead>\n    <tr style=\"text-align: right;\">\n      <th></th>\n      <th>Order ID</th>\n      <th>Amount</th>\n      <th>Profit</th>\n      <th>Quantity</th>\n      <th>Category</th>\n      <th>Sub-Category</th>\n    </tr>\n  </thead>\n  <tbody>\n    <tr>\n      <th>0</th>\n      <td>B-25601</td>\n      <td>1275.0</td>\n      <td>-1148.0</td>\n      <td>7</td>\n      <td>Furniture</td>\n      <td>Bookcases</td>\n    </tr>\n    <tr>\n      <th>1</th>\n      <td>B-25601</td>\n      <td>66.0</td>\n      <td>-12.0</td>\n      <td>5</td>\n      <td>Clothing</td>\n      <td>Stole</td>\n    </tr>\n    <tr>\n      <th>2</th>\n      <td>B-25601</td>\n      <td>8.0</td>\n      <td>-2.0</td>\n      <td>3</td>\n      <td>Clothing</td>\n      <td>Hankerchief</td>\n    </tr>\n    <tr>\n      <th>3</th>\n      <td>B-25601</td>\n      <td>80.0</td>\n      <td>-56.0</td>\n      <td>4</td>\n      <td>Electronics</td>\n      <td>Electronic Games</td>\n    </tr>\n    <tr>\n      <th>4</th>\n      <td>B-25602</td>\n      <td>168.0</td>\n      <td>-111.0</td>\n      <td>2</td>\n      <td>Electronics</td>\n      <td>Phones</td>\n    </tr>\n  </tbody>\n</table>\n</div>"
     },
     "execution_count": 3,
     "metadata": {},
     "output_type": "execute_result"
    }
   ],
   "source": [
    "print(order_details.info())\n",
    "order_details.head()"
   ],
   "metadata": {
    "collapsed": false,
    "pycharm": {
     "name": "#%%\n"
    }
   }
  },
  {
   "cell_type": "markdown",
   "source": [
    "##### Sales\n"
   ],
   "metadata": {
    "collapsed": false,
    "pycharm": {
     "name": "#%% md\n"
    }
   }
  },
  {
   "cell_type": "code",
   "execution_count": 4,
   "outputs": [
    {
     "name": "stdout",
     "output_type": "stream",
     "text": [
      "<class 'pandas.core.frame.DataFrame'>\n",
      "RangeIndex: 36 entries, 0 to 35\n",
      "Data columns (total 3 columns):\n",
      " #   Column               Non-Null Count  Dtype  \n",
      "---  ------               --------------  -----  \n",
      " 0   Month of Order Date  36 non-null     object \n",
      " 1   Category             36 non-null     object \n",
      " 2   Target               36 non-null     float64\n",
      "dtypes: float64(1), object(2)\n",
      "memory usage: 992.0+ bytes\n",
      "None\n"
     ]
    },
    {
     "data": {
      "text/plain": "  Month of Order Date   Category   Target\n0              Apr-18  Furniture  10400.0\n1              May-18  Furniture  10500.0\n2              Jun-18  Furniture  10600.0\n3              Jul-18  Furniture  10800.0\n4              Aug-18  Furniture  10900.0",
      "text/html": "<div>\n<style scoped>\n    .dataframe tbody tr th:only-of-type {\n        vertical-align: middle;\n    }\n\n    .dataframe tbody tr th {\n        vertical-align: top;\n    }\n\n    .dataframe thead th {\n        text-align: right;\n    }\n</style>\n<table border=\"1\" class=\"dataframe\">\n  <thead>\n    <tr style=\"text-align: right;\">\n      <th></th>\n      <th>Month of Order Date</th>\n      <th>Category</th>\n      <th>Target</th>\n    </tr>\n  </thead>\n  <tbody>\n    <tr>\n      <th>0</th>\n      <td>Apr-18</td>\n      <td>Furniture</td>\n      <td>10400.0</td>\n    </tr>\n    <tr>\n      <th>1</th>\n      <td>May-18</td>\n      <td>Furniture</td>\n      <td>10500.0</td>\n    </tr>\n    <tr>\n      <th>2</th>\n      <td>Jun-18</td>\n      <td>Furniture</td>\n      <td>10600.0</td>\n    </tr>\n    <tr>\n      <th>3</th>\n      <td>Jul-18</td>\n      <td>Furniture</td>\n      <td>10800.0</td>\n    </tr>\n    <tr>\n      <th>4</th>\n      <td>Aug-18</td>\n      <td>Furniture</td>\n      <td>10900.0</td>\n    </tr>\n  </tbody>\n</table>\n</div>"
     },
     "execution_count": 4,
     "metadata": {},
     "output_type": "execute_result"
    }
   ],
   "source": [
    "print(sales.info())\n",
    "sales.head()"
   ],
   "metadata": {
    "collapsed": false,
    "pycharm": {
     "name": "#%%\n"
    }
   }
  },
  {
   "cell_type": "markdown",
   "source": [
    "##### Join our dataframes\n"
   ],
   "metadata": {
    "collapsed": false,
    "pycharm": {
     "name": "#%% md\n"
    }
   }
  },
  {
   "cell_type": "code",
   "execution_count": 5,
   "outputs": [
    {
     "data": {
      "text/plain": "  Order ID  Order Date CustomerName        State       City  Amount  Profit  \\\n0  B-25601  01-04-2018       Bharat      Gujarat  Ahmedabad  1275.0 -1148.0   \n1  B-25601  01-04-2018       Bharat      Gujarat  Ahmedabad    66.0   -12.0   \n2  B-25601  01-04-2018       Bharat      Gujarat  Ahmedabad     8.0    -2.0   \n3  B-25601  01-04-2018       Bharat      Gujarat  Ahmedabad    80.0   -56.0   \n4  B-25602  01-04-2018        Pearl  Maharashtra       Pune   168.0  -111.0   \n\n   Quantity     Category      Sub-Category  \n0         7    Furniture         Bookcases  \n1         5     Clothing             Stole  \n2         3     Clothing       Hankerchief  \n3         4  Electronics  Electronic Games  \n4         2  Electronics            Phones  ",
      "text/html": "<div>\n<style scoped>\n    .dataframe tbody tr th:only-of-type {\n        vertical-align: middle;\n    }\n\n    .dataframe tbody tr th {\n        vertical-align: top;\n    }\n\n    .dataframe thead th {\n        text-align: right;\n    }\n</style>\n<table border=\"1\" class=\"dataframe\">\n  <thead>\n    <tr style=\"text-align: right;\">\n      <th></th>\n      <th>Order ID</th>\n      <th>Order Date</th>\n      <th>CustomerName</th>\n      <th>State</th>\n      <th>City</th>\n      <th>Amount</th>\n      <th>Profit</th>\n      <th>Quantity</th>\n      <th>Category</th>\n      <th>Sub-Category</th>\n    </tr>\n  </thead>\n  <tbody>\n    <tr>\n      <th>0</th>\n      <td>B-25601</td>\n      <td>01-04-2018</td>\n      <td>Bharat</td>\n      <td>Gujarat</td>\n      <td>Ahmedabad</td>\n      <td>1275.0</td>\n      <td>-1148.0</td>\n      <td>7</td>\n      <td>Furniture</td>\n      <td>Bookcases</td>\n    </tr>\n    <tr>\n      <th>1</th>\n      <td>B-25601</td>\n      <td>01-04-2018</td>\n      <td>Bharat</td>\n      <td>Gujarat</td>\n      <td>Ahmedabad</td>\n      <td>66.0</td>\n      <td>-12.0</td>\n      <td>5</td>\n      <td>Clothing</td>\n      <td>Stole</td>\n    </tr>\n    <tr>\n      <th>2</th>\n      <td>B-25601</td>\n      <td>01-04-2018</td>\n      <td>Bharat</td>\n      <td>Gujarat</td>\n      <td>Ahmedabad</td>\n      <td>8.0</td>\n      <td>-2.0</td>\n      <td>3</td>\n      <td>Clothing</td>\n      <td>Hankerchief</td>\n    </tr>\n    <tr>\n      <th>3</th>\n      <td>B-25601</td>\n      <td>01-04-2018</td>\n      <td>Bharat</td>\n      <td>Gujarat</td>\n      <td>Ahmedabad</td>\n      <td>80.0</td>\n      <td>-56.0</td>\n      <td>4</td>\n      <td>Electronics</td>\n      <td>Electronic Games</td>\n    </tr>\n    <tr>\n      <th>4</th>\n      <td>B-25602</td>\n      <td>01-04-2018</td>\n      <td>Pearl</td>\n      <td>Maharashtra</td>\n      <td>Pune</td>\n      <td>168.0</td>\n      <td>-111.0</td>\n      <td>2</td>\n      <td>Electronics</td>\n      <td>Phones</td>\n    </tr>\n  </tbody>\n</table>\n</div>"
     },
     "execution_count": 5,
     "metadata": {},
     "output_type": "execute_result"
    }
   ],
   "source": [
    "orders = pd.merge(order_list, order_details, on='Order ID')\n",
    "orders.head()"
   ],
   "metadata": {
    "collapsed": false,
    "pycharm": {
     "name": "#%%\n"
    }
   }
  },
  {
   "cell_type": "markdown",
   "source": [
    "##### Missing values"
   ],
   "metadata": {
    "collapsed": false,
    "pycharm": {
     "name": "#%% md\n"
    }
   }
  },
  {
   "cell_type": "code",
   "execution_count": 6,
   "outputs": [
    {
     "data": {
      "text/plain": "Order ID        0\nOrder Date      0\nCustomerName    0\nState           0\nCity            0\nAmount          0\nProfit          0\nQuantity        0\nCategory        0\nSub-Category    0\ndtype: int64"
     },
     "execution_count": 6,
     "metadata": {},
     "output_type": "execute_result"
    }
   ],
   "source": [
    "orders.isna().sum()"
   ],
   "metadata": {
    "collapsed": false,
    "pycharm": {
     "name": "#%%\n"
    }
   }
  },
  {
   "cell_type": "markdown",
   "source": [
    "##### Duplicates"
   ],
   "metadata": {
    "collapsed": false,
    "pycharm": {
     "name": "#%% md\n"
    }
   }
  },
  {
   "cell_type": "code",
   "execution_count": 7,
   "outputs": [
    {
     "data": {
      "text/plain": "0"
     },
     "execution_count": 7,
     "metadata": {},
     "output_type": "execute_result"
    }
   ],
   "source": [
    "orders.duplicated().sum()"
   ],
   "metadata": {
    "collapsed": false,
    "pycharm": {
     "name": "#%%\n"
    }
   }
  },
  {
   "cell_type": "markdown",
   "source": [
    "##### Data Cleaning\n",
    "1. Devide order date into columns\n",
    "2. Delete Order ID column"
   ],
   "metadata": {
    "collapsed": false,
    "pycharm": {
     "name": "#%% md\n"
    }
   }
  },
  {
   "cell_type": "code",
   "execution_count": 8,
   "outputs": [
    {
     "data": {
      "text/plain": "  CustomerName        State       City  Amount  Profit  Quantity     Category  \\\n0       Bharat      Gujarat  Ahmedabad  1275.0 -1148.0         7    Furniture   \n1       Bharat      Gujarat  Ahmedabad    66.0   -12.0         5     Clothing   \n2       Bharat      Gujarat  Ahmedabad     8.0    -2.0         3     Clothing   \n3       Bharat      Gujarat  Ahmedabad    80.0   -56.0         4  Electronics   \n4        Pearl  Maharashtra       Pune   168.0  -111.0         2  Electronics   \n\n       Sub-Category  Day  Month  Year  \n0         Bookcases    1      4  2018  \n1             Stole    1      4  2018  \n2       Hankerchief    1      4  2018  \n3  Electronic Games    1      4  2018  \n4            Phones    1      4  2018  ",
      "text/html": "<div>\n<style scoped>\n    .dataframe tbody tr th:only-of-type {\n        vertical-align: middle;\n    }\n\n    .dataframe tbody tr th {\n        vertical-align: top;\n    }\n\n    .dataframe thead th {\n        text-align: right;\n    }\n</style>\n<table border=\"1\" class=\"dataframe\">\n  <thead>\n    <tr style=\"text-align: right;\">\n      <th></th>\n      <th>CustomerName</th>\n      <th>State</th>\n      <th>City</th>\n      <th>Amount</th>\n      <th>Profit</th>\n      <th>Quantity</th>\n      <th>Category</th>\n      <th>Sub-Category</th>\n      <th>Day</th>\n      <th>Month</th>\n      <th>Year</th>\n    </tr>\n  </thead>\n  <tbody>\n    <tr>\n      <th>0</th>\n      <td>Bharat</td>\n      <td>Gujarat</td>\n      <td>Ahmedabad</td>\n      <td>1275.0</td>\n      <td>-1148.0</td>\n      <td>7</td>\n      <td>Furniture</td>\n      <td>Bookcases</td>\n      <td>1</td>\n      <td>4</td>\n      <td>2018</td>\n    </tr>\n    <tr>\n      <th>1</th>\n      <td>Bharat</td>\n      <td>Gujarat</td>\n      <td>Ahmedabad</td>\n      <td>66.0</td>\n      <td>-12.0</td>\n      <td>5</td>\n      <td>Clothing</td>\n      <td>Stole</td>\n      <td>1</td>\n      <td>4</td>\n      <td>2018</td>\n    </tr>\n    <tr>\n      <th>2</th>\n      <td>Bharat</td>\n      <td>Gujarat</td>\n      <td>Ahmedabad</td>\n      <td>8.0</td>\n      <td>-2.0</td>\n      <td>3</td>\n      <td>Clothing</td>\n      <td>Hankerchief</td>\n      <td>1</td>\n      <td>4</td>\n      <td>2018</td>\n    </tr>\n    <tr>\n      <th>3</th>\n      <td>Bharat</td>\n      <td>Gujarat</td>\n      <td>Ahmedabad</td>\n      <td>80.0</td>\n      <td>-56.0</td>\n      <td>4</td>\n      <td>Electronics</td>\n      <td>Electronic Games</td>\n      <td>1</td>\n      <td>4</td>\n      <td>2018</td>\n    </tr>\n    <tr>\n      <th>4</th>\n      <td>Pearl</td>\n      <td>Maharashtra</td>\n      <td>Pune</td>\n      <td>168.0</td>\n      <td>-111.0</td>\n      <td>2</td>\n      <td>Electronics</td>\n      <td>Phones</td>\n      <td>1</td>\n      <td>4</td>\n      <td>2018</td>\n    </tr>\n  </tbody>\n</table>\n</div>"
     },
     "execution_count": 8,
     "metadata": {},
     "output_type": "execute_result"
    }
   ],
   "source": [
    "orders[['Day', 'Month', 'Year']] = orders['Order Date'].str.split('-', expand=True)\n",
    "orders['Month'] = orders['Month'].apply(int)\n",
    "orders['Day'] = orders['Day'].apply(int)\n",
    "orders['Year'] = orders['Year'].apply(int)\n",
    "orders.drop(['Order Date', 'Order ID'], inplace=True, axis=1)\n",
    "orders.head()"
   ],
   "metadata": {
    "collapsed": false,
    "pycharm": {
     "name": "#%%\n"
    }
   }
  },
  {
   "cell_type": "code",
   "execution_count": 9,
   "outputs": [
    {
     "data": {
      "text/plain": "    Category   Target  Month  Year\n0  Furniture  10400.0      4  2018\n1  Furniture  10500.0      5  2018\n2  Furniture  10600.0      6  2018\n3  Furniture  10800.0      7  2018\n4  Furniture  10900.0      8  2018",
      "text/html": "<div>\n<style scoped>\n    .dataframe tbody tr th:only-of-type {\n        vertical-align: middle;\n    }\n\n    .dataframe tbody tr th {\n        vertical-align: top;\n    }\n\n    .dataframe thead th {\n        text-align: right;\n    }\n</style>\n<table border=\"1\" class=\"dataframe\">\n  <thead>\n    <tr style=\"text-align: right;\">\n      <th></th>\n      <th>Category</th>\n      <th>Target</th>\n      <th>Month</th>\n      <th>Year</th>\n    </tr>\n  </thead>\n  <tbody>\n    <tr>\n      <th>0</th>\n      <td>Furniture</td>\n      <td>10400.0</td>\n      <td>4</td>\n      <td>2018</td>\n    </tr>\n    <tr>\n      <th>1</th>\n      <td>Furniture</td>\n      <td>10500.0</td>\n      <td>5</td>\n      <td>2018</td>\n    </tr>\n    <tr>\n      <th>2</th>\n      <td>Furniture</td>\n      <td>10600.0</td>\n      <td>6</td>\n      <td>2018</td>\n    </tr>\n    <tr>\n      <th>3</th>\n      <td>Furniture</td>\n      <td>10800.0</td>\n      <td>7</td>\n      <td>2018</td>\n    </tr>\n    <tr>\n      <th>4</th>\n      <td>Furniture</td>\n      <td>10900.0</td>\n      <td>8</td>\n      <td>2018</td>\n    </tr>\n  </tbody>\n</table>\n</div>"
     },
     "execution_count": 9,
     "metadata": {},
     "output_type": "execute_result"
    }
   ],
   "source": [
    "from time import strptime\n",
    "sales[['Month', 'Year']] = sales['Month of Order Date'].str.split('-', expand=True)\n",
    "sales['Month'] = sales['Month'].apply(lambda x: strptime(x, '%b').tm_mon)\n",
    "sales['Year'] = sales['Year'].apply(lambda x: int(f\"20{x}\"))\n",
    "sales.drop('Month of Order Date', axis=1, inplace=True)\n",
    "sales.head()"
   ],
   "metadata": {
    "collapsed": false,
    "pycharm": {
     "name": "#%%\n"
    }
   }
  },
  {
   "cell_type": "markdown",
   "source": [
    "##### Joining the sales to order frame\n"
   ],
   "metadata": {
    "collapsed": false,
    "pycharm": {
     "name": "#%% md\n"
    }
   }
  },
  {
   "cell_type": "code",
   "execution_count": 10,
   "outputs": [
    {
     "data": {
      "text/plain": "  Category_x   Target  Month  Year CustomerName        State       City  \\\n0  Furniture  10400.0      4  2018       Bharat      Gujarat  Ahmedabad   \n1  Furniture  10400.0      4  2018       Bharat      Gujarat  Ahmedabad   \n2  Furniture  10400.0      4  2018       Bharat      Gujarat  Ahmedabad   \n3  Furniture  10400.0      4  2018       Bharat      Gujarat  Ahmedabad   \n4  Furniture  10400.0      4  2018        Pearl  Maharashtra       Pune   \n\n   Amount  Profit  Quantity   Category_y      Sub-Category  Day  \n0  1275.0 -1148.0         7    Furniture         Bookcases    1  \n1    66.0   -12.0         5     Clothing             Stole    1  \n2     8.0    -2.0         3     Clothing       Hankerchief    1  \n3    80.0   -56.0         4  Electronics  Electronic Games    1  \n4   168.0  -111.0         2  Electronics            Phones    1  ",
      "text/html": "<div>\n<style scoped>\n    .dataframe tbody tr th:only-of-type {\n        vertical-align: middle;\n    }\n\n    .dataframe tbody tr th {\n        vertical-align: top;\n    }\n\n    .dataframe thead th {\n        text-align: right;\n    }\n</style>\n<table border=\"1\" class=\"dataframe\">\n  <thead>\n    <tr style=\"text-align: right;\">\n      <th></th>\n      <th>Category_x</th>\n      <th>Target</th>\n      <th>Month</th>\n      <th>Year</th>\n      <th>CustomerName</th>\n      <th>State</th>\n      <th>City</th>\n      <th>Amount</th>\n      <th>Profit</th>\n      <th>Quantity</th>\n      <th>Category_y</th>\n      <th>Sub-Category</th>\n      <th>Day</th>\n    </tr>\n  </thead>\n  <tbody>\n    <tr>\n      <th>0</th>\n      <td>Furniture</td>\n      <td>10400.0</td>\n      <td>4</td>\n      <td>2018</td>\n      <td>Bharat</td>\n      <td>Gujarat</td>\n      <td>Ahmedabad</td>\n      <td>1275.0</td>\n      <td>-1148.0</td>\n      <td>7</td>\n      <td>Furniture</td>\n      <td>Bookcases</td>\n      <td>1</td>\n    </tr>\n    <tr>\n      <th>1</th>\n      <td>Furniture</td>\n      <td>10400.0</td>\n      <td>4</td>\n      <td>2018</td>\n      <td>Bharat</td>\n      <td>Gujarat</td>\n      <td>Ahmedabad</td>\n      <td>66.0</td>\n      <td>-12.0</td>\n      <td>5</td>\n      <td>Clothing</td>\n      <td>Stole</td>\n      <td>1</td>\n    </tr>\n    <tr>\n      <th>2</th>\n      <td>Furniture</td>\n      <td>10400.0</td>\n      <td>4</td>\n      <td>2018</td>\n      <td>Bharat</td>\n      <td>Gujarat</td>\n      <td>Ahmedabad</td>\n      <td>8.0</td>\n      <td>-2.0</td>\n      <td>3</td>\n      <td>Clothing</td>\n      <td>Hankerchief</td>\n      <td>1</td>\n    </tr>\n    <tr>\n      <th>3</th>\n      <td>Furniture</td>\n      <td>10400.0</td>\n      <td>4</td>\n      <td>2018</td>\n      <td>Bharat</td>\n      <td>Gujarat</td>\n      <td>Ahmedabad</td>\n      <td>80.0</td>\n      <td>-56.0</td>\n      <td>4</td>\n      <td>Electronics</td>\n      <td>Electronic Games</td>\n      <td>1</td>\n    </tr>\n    <tr>\n      <th>4</th>\n      <td>Furniture</td>\n      <td>10400.0</td>\n      <td>4</td>\n      <td>2018</td>\n      <td>Pearl</td>\n      <td>Maharashtra</td>\n      <td>Pune</td>\n      <td>168.0</td>\n      <td>-111.0</td>\n      <td>2</td>\n      <td>Electronics</td>\n      <td>Phones</td>\n      <td>1</td>\n    </tr>\n  </tbody>\n</table>\n</div>"
     },
     "execution_count": 10,
     "metadata": {},
     "output_type": "execute_result"
    }
   ],
   "source": [
    "df = pd.merge(sales, orders, on=['Month', 'Year'])\n",
    "df.head()"
   ],
   "metadata": {
    "collapsed": false,
    "pycharm": {
     "name": "#%%\n"
    }
   }
  },
  {
   "cell_type": "code",
   "execution_count": 11,
   "outputs": [
    {
     "name": "stdout",
     "output_type": "stream",
     "text": [
      "<class 'pandas.core.frame.DataFrame'>\n",
      "Int64Index: 4500 entries, 0 to 4499\n",
      "Data columns (total 13 columns):\n",
      " #   Column        Non-Null Count  Dtype  \n",
      "---  ------        --------------  -----  \n",
      " 0   Category_x    4500 non-null   object \n",
      " 1   Target        4500 non-null   float64\n",
      " 2   Month         4500 non-null   int64  \n",
      " 3   Year          4500 non-null   int64  \n",
      " 4   CustomerName  4500 non-null   object \n",
      " 5   State         4500 non-null   object \n",
      " 6   City          4500 non-null   object \n",
      " 7   Amount        4500 non-null   float64\n",
      " 8   Profit        4500 non-null   float64\n",
      " 9   Quantity      4500 non-null   int64  \n",
      " 10  Category_y    4500 non-null   object \n",
      " 11  Sub-Category  4500 non-null   object \n",
      " 12  Day           4500 non-null   int64  \n",
      "dtypes: float64(3), int64(4), object(6)\n",
      "memory usage: 492.2+ KB\n"
     ]
    }
   ],
   "source": [
    "df.info()"
   ],
   "metadata": {
    "collapsed": false,
    "pycharm": {
     "name": "#%%\n"
    }
   }
  },
  {
   "cell_type": "code",
   "execution_count": 12,
   "outputs": [],
   "source": [
    "df.to_excel('data/CleanedDate.xlsx')\n"
   ],
   "metadata": {
    "collapsed": false,
    "pycharm": {
     "name": "#%%\n"
    }
   }
  },
  {
   "cell_type": "code",
   "execution_count": null,
   "outputs": [],
   "source": [],
   "metadata": {
    "collapsed": false,
    "pycharm": {
     "name": "#%%\n"
    }
   }
  }
 ],
 "metadata": {
  "kernelspec": {
   "display_name": "Python 3",
   "language": "python",
   "name": "python3"
  },
  "language_info": {
   "codemirror_mode": {
    "name": "ipython",
    "version": 2
   },
   "file_extension": ".py",
   "mimetype": "text/x-python",
   "name": "python",
   "nbconvert_exporter": "python",
   "pygments_lexer": "ipython2",
   "version": "2.7.6"
  }
 },
 "nbformat": 4,
 "nbformat_minor": 0
}